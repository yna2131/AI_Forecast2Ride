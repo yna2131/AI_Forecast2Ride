{
  "cells": [
    {
      "cell_type": "markdown",
      "id": "aaad9938",
      "metadata": {
        "id": "aaad9938"
      },
      "source": [
        "# Pre-processing Data / Pre-EDA"
      ]
    },
    {
      "cell_type": "code",
      "execution_count": 10,
      "id": "7bf00d88",
      "metadata": {
        "id": "7bf00d88"
      },
      "outputs": [],
      "source": [
        "import pandas as pd\n",
        "from random import sample"
      ]
    },
    {
      "cell_type": "code",
      "execution_count": 11,
      "id": "-Lbhxiq_g1hL",
      "metadata": {
        "colab": {
          "base_uri": "https://localhost:8080/",
          "height": 460
        },
        "id": "-Lbhxiq_g1hL",
        "outputId": "749ed875-f4c2-4094-fd5d-12e15140353c"
      },
      "outputs": [],
      "source": [
        "combinedData = pd.read_csv(\"SeoulBikeData_Cleaned.csv\")\n",
        "\n",
        "trainingData = combinedData.sample(frac=0.8, replace=False)\n",
        "testData = combinedData.drop(trainingData.index)\n",
        "\n",
        "\n",
        "trainingData.to_csv(\"TrainingData.csv\", index=False)\n",
        "testData.to_csv(\"TestData.csv\", index=False)"
      ]
    }
  ],
  "metadata": {
    "colab": {
      "provenance": []
    },
    "kernelspec": {
      "display_name": ".venv",
      "language": "python",
      "name": "python3"
    },
    "language_info": {
      "codemirror_mode": {
        "name": "ipython",
        "version": 3
      },
      "file_extension": ".py",
      "mimetype": "text/x-python",
      "name": "python",
      "nbconvert_exporter": "python",
      "pygments_lexer": "ipython3",
      "version": "3.13.3"
    }
  },
  "nbformat": 4,
  "nbformat_minor": 5
}

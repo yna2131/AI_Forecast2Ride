{
 "cells": [
  {
   "cell_type": "markdown",
   "id": "d05ca6b7",
   "metadata": {},
   "source": [
    "# Data Scaling"
   ]
  },
  {
   "cell_type": "markdown",
   "id": "30a9ba48",
   "metadata": {},
   "source": [
    "### Standard Scaling"
   ]
  },
  {
   "cell_type": "code",
   "execution_count": 49,
   "id": "1f11f4de",
   "metadata": {},
   "outputs": [],
   "source": [
    "import pandas as pd\n",
    "from sklearn.preprocessing import StandardScaler"
   ]
  },
  {
   "cell_type": "code",
   "execution_count": 50,
   "id": "5563a98a",
   "metadata": {},
   "outputs": [],
   "source": [
    "training_data = pd.read_csv(\"TrainingData.csv\")\n",
    "test_data = pd.read_csv(\"TestData.csv\")\n",
    "\n",
    "training_data = training_data.drop('Date', axis=1)\n",
    "test_data = test_data.drop('Date', axis=1)"
   ]
  },
  {
   "cell_type": "code",
   "execution_count": 51,
   "id": "9c018d1c",
   "metadata": {},
   "outputs": [],
   "source": [
    "x_train = training_data.drop(\"Rented Bike Count\", axis=1)\n",
    "y_train = training_data[\"Rented Bike Count\"]\n",
    "\n",
    "x_test = test_data.drop(\"Rented Bike Count\", axis=1)\n",
    "y_test = test_data[\"Rented Bike Count\"]"
   ]
  },
  {
   "cell_type": "code",
   "execution_count": 52,
   "id": "9c37041b",
   "metadata": {},
   "outputs": [],
   "source": [
    "scaler = StandardScaler()\n",
    "\n",
    "scale_train = scaler.fit_transform(x_train)\n",
    "scale_test = scaler.transform(x_test)\n",
    "\n",
    "scaled_training_data = pd.DataFrame(scale_train, columns=x_train.columns, index=x_train.index)\n",
    "scaled_test_data = pd.DataFrame(scale_test, columns=x_test.columns, index=x_test.index)"
   ]
  },
  {
   "cell_type": "code",
   "execution_count": 53,
   "id": "17370cd5",
   "metadata": {},
   "outputs": [],
   "source": [
    "scaled_training_data.to_csv(\"ScaledTrainingData.csv\", index=False)\n",
    "scaled_test_data.to_csv(\"ScaledTestData.csv\", index=False)"
   ]
  },
  {
   "cell_type": "code",
   "execution_count": 54,
   "id": "34db4f05",
   "metadata": {},
   "outputs": [],
   "source": [
    "y_train.to_csv(\"UnscaledTrainigData.csv\", index=False)\n",
    "y_test.to_csv(\"UnscaledTestData.csv\", index=False)"
   ]
  }
 ],
 "metadata": {
  "kernelspec": {
   "display_name": ".venv",
   "language": "python",
   "name": "python3"
  },
  "language_info": {
   "codemirror_mode": {
    "name": "ipython",
    "version": 3
   },
   "file_extension": ".py",
   "mimetype": "text/x-python",
   "name": "python",
   "nbconvert_exporter": "python",
   "pygments_lexer": "ipython3",
   "version": "3.13.3"
  }
 },
 "nbformat": 4,
 "nbformat_minor": 5
}

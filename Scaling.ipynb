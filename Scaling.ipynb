{
 "cells": [
  {
   "cell_type": "markdown",
   "id": "d05ca6b7",
   "metadata": {},
   "source": [
    "# Data Scaling"
   ]
  },
  {
   "cell_type": "markdown",
   "id": "30a9ba48",
   "metadata": {},
   "source": [
    "### Standard Scaling"
   ]
  },
  {
   "cell_type": "code",
   "execution_count": 25,
   "id": "1f11f4de",
   "metadata": {},
   "outputs": [],
   "source": [
    "import pandas as pd\n",
    "from sklearn.preprocessing import StandardScaler"
   ]
  },
  {
   "cell_type": "code",
   "execution_count": 26,
   "id": "5563a98a",
   "metadata": {},
   "outputs": [],
   "source": [
    "training_data = pd.read_csv(\"TrainingData.csv\")\n",
    "test_data = pd.read_csv(\"TestData.csv\")"
   ]
  },
  {
   "cell_type": "code",
   "execution_count": 27,
   "id": "9c018d1c",
   "metadata": {},
   "outputs": [],
   "source": [
    "training_data = training_data.drop('Date', axis=1)\n",
    "test_data = test_data.drop('Date', axis=1)\n",
    "\n",
    "scaler = StandardScaler()\n",
    "\n",
    "scale_train = scaler.fit_transform(training_data)\n",
    "scale_test = scaler.transform(test_data)\n",
    "\n",
    "scaled_training_data = pd.DataFrame(scale_train, columns=training_data.columns, index=training_data.index)\n",
    "scaled_test_data = pd.DataFrame(scale_test, columns=test_data.columns, index=test_data.index)"
   ]
  },
  {
   "cell_type": "code",
   "execution_count": 28,
   "id": "17370cd5",
   "metadata": {},
   "outputs": [],
   "source": [
    "scaled_training_data.to_csv(\"ScaledTrainingData.csv\", index=False)\n",
    "scaled_test_data.to_csv(\"ScaledTestData.csv\", index=False)"
   ]
  }
 ],
 "metadata": {
  "kernelspec": {
   "display_name": ".venv",
   "language": "python",
   "name": "python3"
  },
  "language_info": {
   "codemirror_mode": {
    "name": "ipython",
    "version": 3
   },
   "file_extension": ".py",
   "mimetype": "text/x-python",
   "name": "python",
   "nbconvert_exporter": "python",
   "pygments_lexer": "ipython3",
   "version": "3.13.3"
  }
 },
 "nbformat": 4,
 "nbformat_minor": 5
}

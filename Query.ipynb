{
 "cells": [
  {
   "cell_type": "code",
   "execution_count": 1,
   "id": "b7739d18",
   "metadata": {},
   "outputs": [],
   "source": [
    "import pandas as pd\n",
    "from sklearn.preprocessing import StandardScaler\n",
    "import joblib"
   ]
  },
  {
   "cell_type": "code",
   "execution_count": 2,
   "id": "8b333024",
   "metadata": {},
   "outputs": [],
   "source": [
    "model = joblib.load(\"SavePointModel.pkl\")"
   ]
  },
  {
   "cell_type": "code",
   "execution_count": 3,
   "id": "dfd14777",
   "metadata": {},
   "outputs": [],
   "source": [
    "training_data = pd.read_csv(\"ScaledTrainingData.csv\")\n",
    "test_data = pd.read_csv(\"TestData.csv\")\n",
    "test_data = test_data.drop(columns=[\"Date\",\"Rented Bike Count\"])\n",
    "feature_names = training_data.columns"
   ]
  },
  {
   "cell_type": "code",
   "execution_count": 4,
   "id": "1b28cf88",
   "metadata": {},
   "outputs": [
    {
     "name": "stdout",
     "output_type": "stream",
     "text": [
      "Please enter the values for the features\n"
     ]
    }
   ],
   "source": [
    "print(\"Please enter the values for the features\")\n",
    "user_input = []\n",
    "for feature in feature_names:\n",
    "    while True:\n",
    "        try:\n",
    "            value = float(input(f\"{feature}: \"))\n",
    "            user_input.append(value)\n",
    "            break\n",
    "        except ValueError:\n",
    "            print(\"Invalid input. Please enter a numerical value.\")"
   ]
  },
  {
   "cell_type": "code",
   "execution_count": 5,
   "id": "eddd356d",
   "metadata": {},
   "outputs": [],
   "source": [
    "user_input_df = pd.DataFrame([user_input], columns=feature_names)"
   ]
  },
  {
   "cell_type": "code",
   "execution_count": 6,
   "id": "fe887272",
   "metadata": {},
   "outputs": [],
   "source": [
    "scaler = StandardScaler()\n",
    "scaler.fit(test_data)\n",
    "\n",
    "scaled_user_input = scaler.transform(user_input_df)"
   ]
  },
  {
   "cell_type": "code",
   "execution_count": 7,
   "id": "0f89f220",
   "metadata": {},
   "outputs": [
    {
     "name": "stderr",
     "output_type": "stream",
     "text": [
      "c:\\Users\\jn792\\Documents\\Tec\\TC3002B.301\\.venv\\Lib\\site-packages\\sklearn\\utils\\validation.py:2739: UserWarning: X does not have valid feature names, but RandomForestRegressor was fitted with feature names\n",
      "  warnings.warn(\n"
     ]
    }
   ],
   "source": [
    "prediction = model.predict(scaled_user_input)"
   ]
  },
  {
   "cell_type": "code",
   "execution_count": 8,
   "id": "c76a74cf",
   "metadata": {},
   "outputs": [
    {
     "name": "stdout",
     "output_type": "stream",
     "text": [
      "\n",
      "Predicted value: 152.44\n"
     ]
    }
   ],
   "source": [
    "print(f\"\\nPredicted value: {prediction[0]:.2f}\")"
   ]
  }
 ],
 "metadata": {
  "kernelspec": {
   "display_name": ".venv",
   "language": "python",
   "name": "python3"
  },
  "language_info": {
   "codemirror_mode": {
    "name": "ipython",
    "version": 3
   },
   "file_extension": ".py",
   "mimetype": "text/x-python",
   "name": "python",
   "nbconvert_exporter": "python",
   "pygments_lexer": "ipython3",
   "version": "3.12.10"
  }
 },
 "nbformat": 4,
 "nbformat_minor": 5
}
